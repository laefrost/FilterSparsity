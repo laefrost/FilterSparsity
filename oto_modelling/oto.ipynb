{
  "cells": [
    {
      "cell_type": "markdown",
      "source": [
        "Notebook for OTO: https://colab.research.google.com/drive/1Q6zuORrGQkyIp1IWYSiWcHCv7kZ5OA8u?usp=sharing"
      ],
      "metadata": {
        "id": "nLzQaYaFYdjf"
      }
    },
    {
      "cell_type": "code",
      "execution_count": 13,
      "metadata": {
        "colab": {
          "base_uri": "https://localhost:8080/"
        },
        "id": "37WB1xK56HJO",
        "outputId": "a5f3d35e-16a7-49df-db07-cdd4e07f4156"
      },
      "outputs": [
        {
          "output_type": "stream",
          "name": "stdout",
          "text": [
            "Requirement already satisfied: only_train_once in /usr/local/lib/python3.11/dist-packages (3.0.1)\n",
            "Requirement already satisfied: numpy in /usr/local/lib/python3.11/dist-packages (from only_train_once) (1.26.4)\n",
            "Requirement already satisfied: graphviz in /usr/local/lib/python3.11/dist-packages (from only_train_once) (0.20.3)\n",
            "Requirement already satisfied: pydot in /usr/local/lib/python3.11/dist-packages (from only_train_once) (3.0.4)\n",
            "Requirement already satisfied: onnx in /usr/local/lib/python3.11/dist-packages (from only_train_once) (1.17.0)\n",
            "Requirement already satisfied: protobuf>=3.20.2 in /usr/local/lib/python3.11/dist-packages (from onnx->only_train_once) (4.25.6)\n",
            "Requirement already satisfied: pyparsing>=3.0.9 in /usr/local/lib/python3.11/dist-packages (from pydot->only_train_once) (3.2.1)\n"
          ]
        }
      ],
      "source": [
        "!pip install only_train_once"
      ]
    },
    {
      "cell_type": "code",
      "execution_count": 14,
      "metadata": {
        "id": "7yKbdkQD5NTb"
      },
      "outputs": [],
      "source": [
        "import os\n",
        "import sys\n",
        "import pandas as pd\n",
        "import numpy as np\n",
        "from pathlib import Path\n",
        "import logging\n",
        "import tensorflow as tf\n",
        "import torch\n",
        "from torchvision import datasets, transforms\n",
        "from only_train_once import OTO\n",
        "\n",
        "import torch\n",
        "import torch.nn as nn\n",
        "import torchvision\n",
        "from torchvision import transforms\n",
        "import torch.nn.functional as F\n",
        "\n",
        "import numpy as np\n",
        "import pandas as pd"
      ]
    },
    {
      "cell_type": "code",
      "execution_count": 28,
      "metadata": {
        "id": "0iU1selA5-3B"
      },
      "outputs": [],
      "source": [
        "class LeNet5BN(nn.Module):\n",
        "\n",
        "    def __init__(self):\n",
        "        super(LeNet5BN, self).__init__()\n",
        "        self.feature_extractor = nn.Sequential(\n",
        "            nn.Conv2d(in_channels=1, out_channels=6, kernel_size=5, stride=1, padding=0),\n",
        "            nn.ReLU(),\n",
        "            nn.BatchNorm2d(6, eps=1e-05, momentum=0.1, affine=True, track_running_stats=True, device=None, dtype=None),\n",
        "            nn.AvgPool2d(kernel_size=2, stride=2),\n",
        "\n",
        "            nn.Conv2d(in_channels=6, out_channels=16, kernel_size=5, stride=1, padding=0),\n",
        "            nn.ReLU(),\n",
        "            nn.BatchNorm2d(16, eps=1e-05, momentum=0.1, affine=True, track_running_stats=True, device=None, dtype=None),\n",
        "            nn.AvgPool2d(kernel_size=2, stride=2),\n",
        "        )\n",
        "\n",
        "        self.classifier = nn.Sequential(\n",
        "            nn.Linear(400,120),  #in_features = 16 x5x5\n",
        "            nn.ReLU(),\n",
        "            nn.Linear(120,84),\n",
        "            nn.ReLU(),\n",
        "            nn.Linear(84,10),\n",
        "            nn.Softmax()\n",
        "\n",
        "        )\n",
        "\n",
        "    def forward(self,x):\n",
        "        a1=self.feature_extractor(x)\n",
        "        #print(a1.shape)\n",
        "        a1 = torch.flatten(a1,1)\n",
        "        a2=self.classifier(a1)\n",
        "        return a2\n",
        "\n",
        "\n",
        "class LeNet5(nn.Module):\n",
        "\n",
        "    def __init__(self):\n",
        "        super(LeNet5, self).__init__()\n",
        "        self.feature_extractor = nn.Sequential(\n",
        "            nn.Conv2d(in_channels=1, out_channels=6, kernel_size=5, stride=1, padding=0),\n",
        "            nn.ReLU(),\n",
        "            #nn.BatchNorm2d(6, eps=1e-05, momentum=0.1, affine=True, track_running_stats=True, device=None, dtype=None),\n",
        "            nn.AvgPool2d(kernel_size=2, stride=2),\n",
        "\n",
        "            nn.Conv2d(in_channels=6, out_channels=16, kernel_size=5, stride=1, padding=0),\n",
        "            nn.ReLU(),\n",
        "            #nn.BatchNorm2d(16, eps=1e-05, momentum=0.1, affine=True, track_running_stats=True, device=None, dtype=None),\n",
        "            nn.AvgPool2d(kernel_size=2, stride=2),\n",
        "        )\n",
        "\n",
        "        self.classifier = nn.Sequential(\n",
        "            nn.Linear(400,120),  #in_features = 16 x5x5\n",
        "            nn.ReLU(),\n",
        "            nn.Linear(120,84),\n",
        "            nn.ReLU(),\n",
        "            nn.Linear(84,10),\n",
        "            nn.Softmax()\n",
        "\n",
        "        )\n",
        "\n",
        "    def forward(self,x):\n",
        "        a1=self.feature_extractor(x)\n",
        "        #print(a1.shape)\n",
        "        a1 = torch.flatten(a1,1)\n",
        "        a2=self.classifier(a1)\n",
        "        return a2"
      ]
    },
    {
      "cell_type": "code",
      "execution_count": 16,
      "metadata": {
        "id": "kC0dAwJ25NTf"
      },
      "outputs": [],
      "source": [
        "def get_loaders(batch_size, test_batch_size):\n",
        "    train_loader = torch.utils.data.DataLoader(\n",
        "    datasets.FashionMNIST('./data.fashionMNIST', train=True, download=True,\n",
        "                    transform=transforms.Compose([\n",
        "                        transforms.Pad(2),\n",
        "                        #transforms.RandomCrop(32),\n",
        "                        #transforms.RandomHorizontalFlip(),\n",
        "                        transforms.ToTensor(),\n",
        "                        transforms.Normalize((0.5,), (0.5,))\n",
        "                    ])),\n",
        "    batch_size=batch_size, shuffle=True)\n",
        "\n",
        "    test_loader = torch.utils.data.DataLoader(\n",
        "    datasets.FashionMNIST('./data.fashionMNIST', train=False, transform=transforms.Compose([\n",
        "        transforms.Pad(2),\n",
        "        transforms.ToTensor(),\n",
        "        transforms.Normalize((0.5,), (0.5,))\n",
        "    ])),\n",
        "    batch_size=test_batch_size, shuffle=True)\n",
        "\n",
        "    return train_loader, test_loader\n",
        "\n",
        "def accuracy_topk(output, target, topk=(1,)):\n",
        "    \"\"\"Computes the precision@k for the specified values of k\"\"\"\n",
        "    maxk = max(topk)\n",
        "    batch_size = target.size(0)\n",
        "\n",
        "    _, pred = output.topk(maxk, 1, True, True)\n",
        "    pred = pred.t()\n",
        "    correct = pred.eq(target.view(1, -1).expand_as(pred))\n",
        "\n",
        "    res = []\n",
        "    for k in topk:\n",
        "        correct_k = correct[:k].reshape(-1).view(-1).float().sum(0, keepdim=True)\n",
        "        res.append(correct_k)\n",
        "    return res\n",
        "\n",
        "\n",
        "def check_accuracy(model, testloader, two_input=False):\n",
        "    correct1 = 0\n",
        "    correct5 = 0\n",
        "    total = 0\n",
        "    model = model.eval()\n",
        "    device = next(model.parameters()).device\n",
        "    with torch.no_grad():\n",
        "        for X, y in testloader:\n",
        "            X = X.to(device)\n",
        "            y = y.to(device)\n",
        "            if two_input:\n",
        "                y_pred = model.forward(X, X)\n",
        "            else:\n",
        "                y_pred = model.forward(X)\n",
        "            total += y.size(0)\n",
        "\n",
        "            prec1, prec5 = accuracy_topk(y_pred.data, y, topk=(1, 5))\n",
        "\n",
        "            correct1 += prec1.item()\n",
        "            correct5 += prec5.item()\n",
        "\n",
        "    model = model.train()\n",
        "    accuracy1 = correct1 / total\n",
        "    accuracy5 = correct5 / total\n",
        "    return accuracy1, accuracy5\n"
      ]
    },
    {
      "cell_type": "code",
      "execution_count": 24,
      "metadata": {
        "id": "t9_T2Dqw5NTh"
      },
      "outputs": [],
      "source": [
        "import copy\n",
        "\n",
        "def fit_model(batch_size, test_batch_size, ts, bn = True):\n",
        "    train_loader, test_loader = get_loaders(batch_size, test_batch_size)\n",
        "\n",
        "    if bn:\n",
        "      model = LeNet5BN()\n",
        "    else:\n",
        "      model = LeNet5()\n",
        "    dummy_input = torch.rand(1, 1, 32, 32)\n",
        "    input_shape = (batch_size, 1, 32, 32)\n",
        "    oto = OTO(model=model.cuda(), dummy_input=dummy_input.cuda())\n",
        "\n",
        "    optimizer = oto.hesso(\n",
        "        variant='sgd',\n",
        "        lr=0.15,\n",
        "        first_momentum = 0.9,\n",
        "        weight_decay=0,\n",
        "        target_group_sparsity=ts,\n",
        "        start_pruning_step=0,\n",
        "        pruning_periods=1,\n",
        "        pruning_steps=1\n",
        "    )\n",
        "\n",
        "    max_epoch = 50\n",
        "    model.cuda()\n",
        "    criterion = torch.nn.CrossEntropyLoss()\n",
        "    # Every 50 epochs, decay lr by 10.0\n",
        "    # lr_scheduler = torch.optim.lr_scheduler.StepLR(optimizer, step_size=50, gamma=0.1)\n",
        "    lr_scheduler = torch.optim.lr_scheduler.CosineAnnealingLR(optimizer, T_max = 1000)\n",
        "    patience = 10\n",
        "    counter = 0\n",
        "    best_val_loss = float('inf')\n",
        "    best_model_state = None\n",
        "\n",
        "    for epoch in range(max_epoch):\n",
        "        f_avg_val = 0.0\n",
        "        model.train()\n",
        "        lr_scheduler.step()\n",
        "        for X, y in train_loader:\n",
        "            X = X.cuda()\n",
        "            y = y.cuda()\n",
        "            y_pred = model.forward(X)\n",
        "            f = criterion(y_pred, y)\n",
        "            optimizer.zero_grad()\n",
        "            f.backward()\n",
        "            f_avg_val += f\n",
        "            optimizer.step()\n",
        "        group_sparsity, param_norm, _ = optimizer.compute_group_sparsity_param_norm()\n",
        "        norm_important, norm_redundant, num_grps_important, num_grps_redundant = optimizer.compute_norm_groups()\n",
        "        accuracy1, accuracy5 = check_accuracy(model, test_loader)\n",
        "        f_avg_val = f_avg_val.cpu().item() / len(train_loader)\n",
        "\n",
        "        model.eval()\n",
        "        val_loss = 0.0\n",
        "        with torch.no_grad():\n",
        "            for X, y in test_loader:\n",
        "                X = X.cuda()\n",
        "                y = y.cuda()\n",
        "                y_pred = model.forward(X)\n",
        "                val_loss += criterion(y_pred, y).item()\n",
        "\n",
        "        val_loss = val_loss / len(test_loader)\n",
        "\n",
        "        if val_loss < best_val_loss:\n",
        "          best_val_loss = val_loss\n",
        "          best_model_state = copy.deepcopy(model.state_dict())\n",
        "          counter = 0\n",
        "        else:\n",
        "            counter += 1\n",
        "\n",
        "        print(\"Ep: {ep}, loss: {f:.2f}, norm_all:{param_norm:.2f}, grp_sparsity: {gs:.2f}, acc1: {acc1:.4f}, norm_import: {norm_import:.2f}, norm_redund: {norm_redund:.2f}, num_grp_import: {num_grps_import}, num_grp_redund: {num_grps_redund}\"\\\n",
        "            .format(ep=epoch, f=f_avg_val, param_norm=param_norm, gs=group_sparsity, acc1=accuracy1,\\\n",
        "            norm_import=norm_important, norm_redund=norm_redundant, num_grps_import=num_grps_important, num_grps_redund=num_grps_redundant\n",
        "            ))\n",
        "\n",
        "        if counter > patience:\n",
        "            print(f\"Early stopping at epoch {epoch+1}\")\n",
        "            break\n",
        "\n",
        "    # Restore best model\n",
        "    if best_model_state is not None:\n",
        "        model.load_state_dict(best_model_state)\n",
        "\n",
        "\n",
        "    baseline_flops = oto.compute_flops()['total']\n",
        "    # oto = OTO(torch.load(ckpt_path), dummy_input)\n",
        "    oto.construct_subnet(out_dir='./cache')\n",
        "    pruned_flops = oto.compute_flops()['total']\n",
        "    return accuracy1, baseline_flops, pruned_flops"
      ]
    },
    {
      "cell_type": "code",
      "execution_count": 26,
      "metadata": {
        "id": "1Gfu9-_x03GW"
      },
      "outputs": [],
      "source": [
        "lambda_min = 0.1\n",
        "lambda_max = 1\n",
        "lambda_seq_len = 11\n",
        "lambda_seq = np.linspace(lambda_max, lambda_min, lambda_seq_len)\n",
        "lambda_seq = np.concatenate([lambda_seq, [0]])"
      ]
    },
    {
      "cell_type": "code",
      "execution_count": 27,
      "metadata": {
        "colab": {
          "base_uri": "https://localhost:8080/"
        },
        "id": "BP2f58T67O41",
        "outputId": "c89a1c2c-f2de-4d96-82e1-2d12b85634f9"
      },
      "outputs": [
        {
          "output_type": "stream",
          "name": "stdout",
          "text": [
            "1\n",
            "OTO graph constructor\n",
            "graph build\n",
            "Setup HESSO\n",
            "Target redundant groups per period:  [225]\n",
            "Ep: 0, loss: 2.30, norm_all:3.50, grp_sparsity: 0.98, acc1: 0.1000, norm_import: 3.50, norm_redund: 0.00, num_grp_import: 4, num_grp_redund: 222\n",
            "Ep: 1, loss: 2.30, norm_all:3.50, grp_sparsity: 0.98, acc1: 0.1000, norm_import: 3.50, norm_redund: 0.00, num_grp_import: 4, num_grp_redund: 222\n",
            "Ep: 2, loss: 2.30, norm_all:3.51, grp_sparsity: 0.98, acc1: 0.1000, norm_import: 3.51, norm_redund: 0.00, num_grp_import: 4, num_grp_redund: 222\n",
            "Ep: 3, loss: 2.26, norm_all:9.40, grp_sparsity: 0.98, acc1: 0.2224, norm_import: 9.40, norm_redund: 0.00, num_grp_import: 4, num_grp_redund: 222\n",
            "Ep: 4, loss: 2.19, norm_all:10.83, grp_sparsity: 0.98, acc1: 0.2640, norm_import: 10.83, norm_redund: 0.00, num_grp_import: 4, num_grp_redund: 222\n",
            "Parameter containing:\n",
            "tensor([[[[-0.8504, -0.6980, -0.4923, -0.5247, -0.5386],\n",
            "          [-0.6806, -0.7957, -0.8564, -0.5661, -0.4919],\n",
            "          [-0.8030, -0.7573, -0.7812, -0.6017, -0.5960],\n",
            "          [-0.8346, -0.8182, -0.8867, -0.8653, -0.6843],\n",
            "          [-0.9079, -0.8995, -0.7700, -0.6898, -0.6884]]]], device='cuda:0',\n",
            "       requires_grad=True)\n",
            "Parameter containing:\n",
            "tensor([[[[-0.4281, -0.5945, -0.6236, -0.1613,  0.2922],\n",
            "          [-0.1061, -0.0726, -0.1421,  0.0400,  0.3316],\n",
            "          [ 0.0321,  0.2550,  0.2107, -0.0015,  0.0574],\n",
            "          [ 0.2052,  0.1988, -0.0918, -0.2932, -0.3546],\n",
            "          [ 0.4365,  0.2011, -0.2906, -0.5454, -0.4671]]]], device='cuda:0',\n",
            "       requires_grad=True)\n",
            "Parameter containing:\n",
            "tensor([[-0.6444,  0.4142, -0.5457, -0.6066,  0.5074, -0.1489, -0.7979, -0.5350,\n",
            "         -0.0498, -0.2761,  0.2377, -0.7519, -0.0733, -0.1783,  0.2526, -0.1020,\n",
            "         -0.1501, -0.6236, -0.6911,  0.0273,  0.1865,  0.0587, -0.3560, -0.4500,\n",
            "          0.5373]], device='cuda:0', requires_grad=True)\n",
            "Parameter containing:\n",
            "tensor([[1.9007]], device='cuda:0', requires_grad=True)\n",
            "Parameter containing:\n",
            "tensor([[-0.5922],\n",
            "        [-0.5802],\n",
            "        [-0.5885],\n",
            "        [-0.5611],\n",
            "        [-0.6793],\n",
            "        [ 1.6402],\n",
            "        [-0.5018],\n",
            "        [ 1.2289],\n",
            "        [-0.2980],\n",
            "        [ 1.1213]], device='cuda:0', requires_grad=True)\n",
            "86\n"
          ]
        },
        {
          "output_type": "stream",
          "name": "stderr",
          "text": [
            "<ipython-input-24-1b46a8aaef25>:91: FutureWarning: You are using `torch.load` with `weights_only=False` (the current default value), which uses the default pickle module implicitly. It is possible to construct malicious pickle data which will execute arbitrary code during unpickling (See https://github.com/pytorch/pytorch/blob/main/SECURITY.md#untrusted-models for more details). In a future release, the default value for `weights_only` will be flipped to `True`. This limits the functions that could be executed during unpickling. Arbitrary objects will no longer be allowed to be loaded via this mode unless they are explicitly allowlisted by the user via `torch.serialization.add_safe_globals`. We recommend you start setting `weights_only=True` for any use case where you don't have full control of the loaded file. Please open an issue on GitHub for any issues related to this experimental feature.\n",
            "  non_zero_weights = count_nonzero_weights(torch.load(oto.compressed_model_path))\n"
          ]
        }
      ],
      "source": [
        "results = []\n",
        "\n",
        "for ts in lambda_seq:\n",
        "  print(ts)\n",
        "  acc, baseline_flops, remaining_flops = fit_model(256, 256, ts)\n",
        "  res = {\n",
        "      'ts': ts,\n",
        "      'acc' : acc,\n",
        "      'baseline_flops' : baseline_flops,\n",
        "      'remaining_flops' : remaining_flops\n",
        "  }\n",
        "  results.append(res)\n",
        "\n"
      ]
    },
    {
      "cell_type": "code",
      "execution_count": null,
      "metadata": {
        "id": "8OZ8pOrmA3fE"
      },
      "outputs": [],
      "source": [
        "res = pd.DataFrame(results)"
      ]
    },
    {
      "cell_type": "code",
      "execution_count": null,
      "metadata": {
        "id": "GW2ls1zmA57A"
      },
      "outputs": [],
      "source": [
        "print(res)"
      ]
    },
    {
      "cell_type": "code",
      "execution_count": null,
      "metadata": {
        "id": "A_ex7su-A9Qd"
      },
      "outputs": [],
      "source": [
        "res.to_csv('results_oto.csv')"
      ]
    },
    {
      "cell_type": "code",
      "execution_count": null,
      "metadata": {
        "id": "RzJnTknOVoDz"
      },
      "outputs": [],
      "source": [
        "from google.colab import files\n",
        "\n",
        "files.download('results_oto.csv')"
      ]
    }
  ],
  "metadata": {
    "accelerator": "GPU",
    "colab": {
      "gpuType": "T4",
      "provenance": []
    },
    "kernelspec": {
      "display_name": "Python 3",
      "name": "python3"
    },
    "language_info": {
      "codemirror_mode": {
        "name": "ipython",
        "version": 3
      },
      "file_extension": ".py",
      "mimetype": "text/x-python",
      "name": "python",
      "nbconvert_exporter": "python",
      "pygments_lexer": "ipython3",
      "version": "3.12.0"
    }
  },
  "nbformat": 4,
  "nbformat_minor": 0
}