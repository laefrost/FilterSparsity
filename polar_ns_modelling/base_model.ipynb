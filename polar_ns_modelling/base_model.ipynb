{
 "cells": [
  {
   "cell_type": "code",
   "execution_count": null,
   "metadata": {
    "vscode": {
     "languageId": "plaintext"
    }
   },
   "outputs": [],
   "source": [
    "import numpy as np\n",
    "import pandas as pd\n",
    "import sys \n",
    "import os\n",
    "\n",
    "# Setup paths\n",
    "PROJECT_ROOT = os.path.join(os.path.dirname(os.path.dirname(os.getcwd())), 'filter_sparsity')\n",
    "if PROJECT_ROOT not in sys.path:\n",
    "    sys.path.append(PROJECT_ROOT)\n",
    "\n",
    "from polar_ns.train import fit_model\n",
    "from polar_ns.prune import main\n",
    "from polar_ns.fine_tune import fine_tune_model"
   ]
  },
  {
   "cell_type": "code",
   "execution_count": null,
   "metadata": {
    "vscode": {
     "languageId": "plaintext"
    }
   },
   "outputs": [],
   "source": [
    "### config for baseline model wo any regularization\n",
    "config_train = {\n",
    "    #'config' : [6, 'A', 16, 'A'],\n",
    "    'loss' : 'original', \n",
    "    'lbd' : 0.1, \n",
    "    'alpha' : 1, \n",
    "    't' : 1,\n",
    "    'epochs' : 50, \n",
    "    'batch_size' : 256, \n",
    "    'test_batch_size' : 256,\n",
    "    'max_epoch' : None, \n",
    "    'lr' : 0.15, \n",
    "    'momentum' : 0.9, \n",
    "    'weight_decay': 0.0, \n",
    "    'resume' : None,\n",
    "    'no_cuda': True, \n",
    "    'seed' : 1234, \n",
    "    'log_interval' : 10,\n",
    "    'bn_init_value' : 0.5, \n",
    "    'clamp' : 1.0, \n",
    "    'gate' : False, \n",
    "    'flops_weighted' : False,\n",
    "    'weight-max': None, \n",
    "    'weight-min' : None, \n",
    "    # TODO: Maybe to True\n",
    "    'bn_wd' : False, \n",
    "    'target-flops' : None, \n",
    "    'debug' : False,\n",
    "    'arch' : 'leNet', \n",
    "    'retrain' : False, \n",
    "    'save' : './checkpoints_base/', \n",
    "    'backup' : './backup_base/', \n",
    "    'log' : './events_base/',\n",
    "    \n",
    "}"
   ]
  },
  {
   "cell_type": "code",
   "execution_count": null,
   "metadata": {
    "vscode": {
     "languageId": "plaintext"
    }
   },
   "outputs": [],
   "source": [
    "fit_model(config_train)"
   ]
  }
 ],
 "metadata": {
  "language_info": {
   "name": "python"
  }
 },
 "nbformat": 4,
 "nbformat_minor": 2
}
