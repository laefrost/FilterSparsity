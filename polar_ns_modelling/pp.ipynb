{
 "cells": [
  {
   "cell_type": "code",
   "execution_count": null,
   "metadata": {
    "vscode": {
     "languageId": "plaintext"
    }
   },
   "outputs": [],
   "source": [
    "import numpy as np\n",
    "import pandas as pd\n",
    "import sys \n",
    "import os\n",
    "\n",
    "# Setup paths\n",
    "PROJECT_ROOT = os.path.join(os.path.dirname(os.path.dirname(os.getcwd())), 'filter_sparsity')\n",
    "if PROJECT_ROOT not in sys.path:\n",
    "    sys.path.append(PROJECT_ROOT)\n",
    "\n",
    "from polar_ns.train import fit_model\n",
    "from polar_ns.prune import main\n",
    "from polar_ns.fine_tune import fine_tune_model"
   ]
  },
  {
   "cell_type": "code",
   "execution_count": null,
   "metadata": {
    "vscode": {
     "languageId": "plaintext"
    }
   },
   "outputs": [],
   "source": [
    "# config for pp via loss type = \"zol\"\n",
    "config_train = {\n",
    "    #'config' : [6, 'A', 16, 'A'],\n",
    "    'loss' : 'zol',\n",
    "    # can be viewed as lambda equivalanet \n",
    "    'lbd' : 0.1, \n",
    "    # alginment to gloabal mean\n",
    "    'alpha' : 1, \n",
    "    # The larger t the more sparsity\n",
    "    't' : 1,\n",
    "    'epochs' : 50, \n",
    "    'batch_size' : 256, \n",
    "    'test_batch_size' : 256,\n",
    "    'max_epoch' : None, \n",
    "    'lr' : 0.15, \n",
    "    'momentum' : 0.9, \n",
    "    'weight_decay': 0.0, \n",
    "    'resume' : None,\n",
    "    'no_cuda': True, \n",
    "    'seed' : 1234, \n",
    "    'log_interval' : 10,\n",
    "    'bn_init_value' : 0.5, \n",
    "    'clamp' : 1.0, \n",
    "    'gate' : False,\n",
    "    # Important, has to stay that way\n",
    "    'flops_weighted' : False,\n",
    "    'weight-max': None, \n",
    "    'weight-min' : None, \n",
    "    'bn_wd' : True, \n",
    "    'target-flops' : None, \n",
    "    'debug' : False,\n",
    "    'arch' : 'leNet', \n",
    "    'retrain' : False, \n",
    "    'save' : './checkpoints_pp/', \n",
    "    'backup' : './backup_pp/', \n",
    "    'log' : './events_pp/',\n",
    "}"
   ]
  },
  {
   "cell_type": "code",
   "execution_count": null,
   "metadata": {
    "vscode": {
     "languageId": "plaintext"
    }
   },
   "outputs": [],
   "source": [
    "fit_model(config_train)"
   ]
  },
  {
   "cell_type": "code",
   "execution_count": null,
   "metadata": {
    "vscode": {
     "languageId": "plaintext"
    }
   },
   "outputs": [],
   "source": [
    "# config for pruing using pp via pruning_strategy = 'grad'\n",
    "config_prune = {\n",
    "    'model' : './checkpoints_pp/model_best.pth.tar',\n",
    "    'batch_size': 256, \n",
    "    'test_batch_size' : 256,\n",
    "    'no_cuda': True, \n",
    "    'prune_type': 'polarization', \n",
    "    'pruning_strategy' : 'grad', \n",
    "    'prune_mode' : 'default', \n",
    "    'save' : './checkpoints_pp/',\n",
    "    'gate' : False\n",
    "}"
   ]
  },
  {
   "cell_type": "code",
   "execution_count": null,
   "metadata": {
    "vscode": {
     "languageId": "plaintext"
    }
   },
   "outputs": [],
   "source": [
    "main(config_prune)"
   ]
  },
  {
   "cell_type": "code",
   "execution_count": null,
   "metadata": {
    "vscode": {
     "languageId": "plaintext"
    }
   },
   "outputs": [],
   "source": [
    "config_finetune = {\n",
    "    #'config' : [6, 'A', 16, 'A'],\n",
    "    'cuda' : False, \n",
    "    'no_cuda' : True, \n",
    "    # scale sparse rate (default: 0.0001)\n",
    "    's' : 0.0001, \n",
    "    'sr : False,\n",
    "    'epochs' : 50, \n",
    "    'batch_size' : 256, \n",
    "    'test_batch_size' : 256,\n",
    "    'max_epoch' : None, \n",
    "    'lr' : 0.15, \n",
    "    'momentum' : 0.9, \n",
    "    'weight_decay': 0.0, \n",
    "    'seed' : 1234, \n",
    "    'log_interval' : 10,\n",
    "    'gate' : False, \n",
    "    'flops_weighted' : False,\n",
    "    'bn_wd' : True, \n",
    "    'resume' : None,\n",
    "    'arch' : 'leNet', \n",
    "    'refine' : './checkpoints_pp/pruned_grad.pth.tar',\n",
    "    'save' : './checkpoints_pp/', \n",
    "    'backup' : './backup_pp/', \n",
    "    'log' : './events_pp/',\n",
    "\n",
    "}"
   ]
  }
 ],
 "metadata": {
  "language_info": {
   "name": "python"
  }
 },
 "nbformat": 4,
 "nbformat_minor": 2
}
